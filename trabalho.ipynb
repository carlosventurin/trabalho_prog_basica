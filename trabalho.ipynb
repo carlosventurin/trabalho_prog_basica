{
 "cells": [
  {
   "attachments": {},
   "cell_type": "markdown",
   "metadata": {},
   "source": [
    "## Importação das Bibliotecas, Leitura e Adaptação dos Dados"
   ]
  },
  {
   "cell_type": "code",
   "execution_count": null,
   "metadata": {},
   "outputs": [],
   "source": [
    "#Importação das Bibliotecas\n",
    "import pandas as pd\n",
    "import matplotlib.pyplot as plt"
   ]
  },
  {
   "cell_type": "code",
   "execution_count": null,
   "metadata": {},
   "outputs": [],
   "source": [
    "#Leitura do Banco de Dados\n",
    "bd = pd.read_csv(\"dataset.csv\")\n",
    "bd.info()"
   ]
  },
  {
   "cell_type": "code",
   "execution_count": null,
   "metadata": {},
   "outputs": [],
   "source": [
    "#Mudança dos tipos das colunas de orçamento e bilheteria (de object para float64)\n",
    "bd['budget'] = pd.to_numeric(bd['budget'], errors='coerce')\n",
    "bd['box_office'] = pd.to_numeric(bd['box_office'], errors='coerce')"
   ]
  },
  {
   "cell_type": "code",
   "execution_count": null,
   "metadata": {},
   "outputs": [],
   "source": [
    "#Criação da coluna de lucro (bilheteria - custo)\n",
    "bd['profit'] = bd['box_office']-bd['budget']"
   ]
  },
  {
   "cell_type": "code",
   "execution_count": null,
   "metadata": {},
   "outputs": [],
   "source": [
    "#Criação da coluna com a década de lançamento\n",
    "bd['decade'] = (bd['year']-1)//10*10"
   ]
  },
  {
   "cell_type": "code",
   "execution_count": null,
   "metadata": {},
   "outputs": [],
   "source": [
    "#Conversão do tempo de object (com horas e minutos) para float64 (minutos) e criação da coluna de uma coluna com o tempo em valor numérico\n",
    "tempomin = []\n",
    "for k in range(len(bd)):\n",
    "    filme = bd['run_time'][k]\n",
    "    if filme.count('h') == 0 and filme != 'Not Available':\n",
    "        filme ='0h' + filme\n",
    "    a = filme.replace('m', 'h').split('h')\n",
    "    soma = 0\n",
    "    for i in range(len(a)):\n",
    "        if a[i] == 'Not Available':\n",
    "            tempomin.append('Not Available')\n",
    "        else:\n",
    "            if i == 0:\n",
    "                soma += (60*int(a[i]))\n",
    "            if i == 1 and a[i] != '':\n",
    "                soma += int(a[i])\n",
    "    if a[0] != 'Not Available':\n",
    "        tempomin.append(soma)\n",
    "bd['run_time_minutes'] = tempomin\n",
    "bd['run_time_minutes'] = pd.to_numeric(bd['run_time_minutes'], errors='coerce')"
   ]
  },
  {
   "cell_type": "code",
   "execution_count": null,
   "metadata": {},
   "outputs": [],
   "source": [
    "#Informações sobre o banco de dados após as modificações\n",
    "bd.describe()"
   ]
  },
  {
   "attachments": {},
   "cell_type": "markdown",
   "metadata": {},
   "source": [
    "## Análise dos Dados"
   ]
  },
  {
   "cell_type": "code",
   "execution_count": null,
   "metadata": {},
   "outputs": [],
   "source": [
    "#Média das notas dos filmes\n",
    "bd['rating'].mean()"
   ]
  },
  {
   "cell_type": "code",
   "execution_count": null,
   "metadata": {},
   "outputs": [],
   "source": [
    "#Média de duração dos filmes\n",
    "print(round(bd['run_time_minutes'].mean(), 2), 'min')"
   ]
  },
  {
   "cell_type": "code",
   "execution_count": null,
   "metadata": {},
   "outputs": [],
   "source": [
    "#Moda dos diretores\n",
    "print('O número de aparições dos diretores que mais possuem filmes na lista é', bd['directors'].value_counts().max())\n",
    "print(bd['directors'].value_counts())"
   ]
  },
  {
   "cell_type": "code",
   "execution_count": null,
   "metadata": {},
   "outputs": [],
   "source": [
    "#Coeficiente de correlação entre nota e ano de lançamento\n",
    "bd[['rating', 'year']].corr()"
   ]
  },
  {
   "cell_type": "code",
   "execution_count": null,
   "metadata": {},
   "outputs": [],
   "source": [
    "#Coeficiente de correlação entre ano de lançamento e bilheteria\n",
    "bd[['year', 'box_office']].corr()"
   ]
  },
  {
   "cell_type": "code",
   "execution_count": null,
   "metadata": {},
   "outputs": [],
   "source": [
    "#Coeficiente de correlação entre orçamento e duração\n",
    "bd[['box_office', 'run_time_minutes']].corr()"
   ]
  },
  {
   "cell_type": "code",
   "execution_count": null,
   "metadata": {},
   "outputs": [],
   "source": [
    "#Filmes que geraram prejuízo (custo de produção maior que bilheteria)\n",
    "prejuizo = bd[bd['profit']<0]\n",
    "print(len(prejuizo))\n",
    "prejuizo"
   ]
  },
  {
   "attachments": {},
   "cell_type": "markdown",
   "metadata": {},
   "source": [
    "## Geração de Gráficos"
   ]
  },
  {
   "cell_type": "code",
   "execution_count": null,
   "metadata": {},
   "outputs": [],
   "source": [
    "#Gŕafico da quantidade de filmes por classificação indicativa\n",
    "plt.figure(figsize=(15,6))\n",
    "plt.title('Filmes por Classificação Indicativa')\n",
    "plt.xlabel('Classificação')\n",
    "plt.ylabel('Número de filmes')\n",
    "plt.bar(bd['certificate'].value_counts().index, bd['certificate'].value_counts().values)\n",
    "plt.show()"
   ]
  },
  {
   "cell_type": "code",
   "execution_count": null,
   "metadata": {},
   "outputs": [],
   "source": [
    "#Gráfico da quantidade de filmes por década\n",
    "plt.figure(figsize=(15,6))\n",
    "plt.title('Filmes Lançados por Década')\n",
    "plt.xlabel('Década')\n",
    "plt.ylabel('Número de filmes')\n",
    "plt.bar(bd['decade'].value_counts().index, bd['decade'].value_counts().values, width=5, color='green')\n",
    "plt.show()"
   ]
  },
  {
   "cell_type": "code",
   "execution_count": null,
   "metadata": {},
   "outputs": [],
   "source": [
    "#Gráfico da média de bilheteria por década\n",
    "plt.figure(figsize=(15,6))\n",
    "plt.title('Média de Bilheteria por Década')\n",
    "plt.xlabel('Década')\n",
    "plt.ylabel('Média de bilheteria (bilhões)')\n",
    "plt.bar(bd.groupby(['decade'])['box_office'].mean().index, bd.groupby(['decade'])['box_office'].mean().values, width=5, color='red')\n",
    "plt.show()"
   ]
  },
  {
   "cell_type": "code",
   "execution_count": null,
   "metadata": {},
   "outputs": [],
   "source": [
    "#Gráfico da média de custo de produção por década\n",
    "plt.figure(figsize=(15,6))\n",
    "plt.title('Média de Custo de Produção por Década')\n",
    "plt.xlabel('Década')\n",
    "plt.ylabel('Média de custo (bilhões)')\n",
    "plt.bar(bd.groupby(['decade'])['budget'].mean().index, bd.groupby(['decade'])['budget'].mean().values, width=5, color='orange')\n",
    "plt.show()"
   ]
  }
 ],
 "metadata": {
  "kernelspec": {
   "display_name": "Python 3",
   "language": "python",
   "name": "python3"
  },
  "language_info": {
   "codemirror_mode": {
    "name": "ipython",
    "version": 3
   },
   "file_extension": ".py",
   "mimetype": "text/x-python",
   "name": "python",
   "nbconvert_exporter": "python",
   "pygments_lexer": "ipython3",
   "version": "3.11.4"
  },
  "orig_nbformat": 4
 },
 "nbformat": 4,
 "nbformat_minor": 2
}
