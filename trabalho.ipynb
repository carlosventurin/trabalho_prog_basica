{
 "cells": [
  {
   "cell_type": "code",
   "execution_count": null,
   "metadata": {},
   "outputs": [],
   "source": [
    "import pandas as pd\n",
    "import matplotlib.pyplot as plt"
   ]
  },
  {
   "cell_type": "code",
   "execution_count": null,
   "metadata": {},
   "outputs": [],
   "source": [
    "bd = pd.read_csv(\"dataset.csv\")\n",
    "bd.info()"
   ]
  },
  {
   "cell_type": "code",
   "execution_count": null,
   "metadata": {},
   "outputs": [],
   "source": [
    "plt.figure(figsize=(15,6))\n",
    "plt.bar(bd['certificate'].value_counts().index, bd['certificate'].value_counts().values)\n",
    "plt.show()\n",
    "#Gŕafico da quantidade de filmes por classificação indicativa"
   ]
  },
  {
   "cell_type": "code",
   "execution_count": null,
   "metadata": {},
   "outputs": [],
   "source": [
    "bd['rating'].mean()\n",
    "#Média das notas dos filmes"
   ]
  },
  {
   "cell_type": "code",
   "execution_count": null,
   "metadata": {},
   "outputs": [],
   "source": [
    "bd[['rating', 'year']].corr()\n",
    "#Coeficiente de correlação entre nota e ano de lançamento"
   ]
  },
  {
   "cell_type": "code",
   "execution_count": null,
   "metadata": {},
   "outputs": [],
   "source": [
    "print(bd['directors'].value_counts().max())\n",
    "print(bd['directors'].value_counts())\n",
    "#Moda dos diretores"
   ]
  },
  {
   "cell_type": "code",
   "execution_count": null,
   "metadata": {},
   "outputs": [],
   "source": [
    "bd['decade'] = bd['year']//10*10\n",
    "\n",
    "plt.figure(figsize=(15,6))\n",
    "plt.bar(bd['decade'].value_counts().index, bd['decade'].value_counts().values)\n",
    "plt.show()\n",
    "#Gráfico da quantidade de filmes por década"
   ]
  },
  {
   "cell_type": "code",
   "execution_count": null,
   "metadata": {},
   "outputs": [],
   "source": [
    "bd['budget'] = pd.to_numeric(bd['budget'], errors='coerce')\n",
    "bd['box_office'] = pd.to_numeric(bd['box_office'], errors='coerce')\n",
    "#mudança das colunas de orçamento e bilheteria (de object para float64)\n"
   ]
  },
  {
   "cell_type": "code",
   "execution_count": null,
   "metadata": {},
   "outputs": [],
   "source": [
    "bd.head()"
   ]
  },
  {
   "cell_type": "code",
   "execution_count": null,
   "metadata": {},
   "outputs": [],
   "source": [
    "bd[['year', 'box_office']].corr()\n",
    "#Coeficiente de correlação entre ano de lançamento e bilheteria"
   ]
  },
  {
   "cell_type": "code",
   "execution_count": null,
   "metadata": {},
   "outputs": [],
   "source": [
    "bd['profit'] = bd['box_office']-bd['budget']\n",
    "#criação da coluna de lucro (bilheteria - custo)"
   ]
  },
  {
   "cell_type": "code",
   "execution_count": null,
   "metadata": {},
   "outputs": [],
   "source": [
    "prejuizo = bd[bd['profit']<0]\n",
    "print(len(prejuizo))\n",
    "prejuizo\n",
    "#Filmes que geraram prejuízo (custo de produção maior que bilheteria)"
   ]
  },
  {
   "cell_type": "code",
   "execution_count": null,
   "metadata": {},
   "outputs": [],
   "source": [
    "bd.groupby(['decade'])['budget'].mean()\n"
   ]
  },
  {
   "cell_type": "code",
   "execution_count": null,
   "metadata": {},
   "outputs": [],
   "source": [
    "plt.figure(figsize=(15,6))\n",
    "plt.bar(bd.groupby(['decade'])['box_office'].mean().index, bd.groupby(['decade'])['box_office'].mean().values)\n",
    "plt.show()\n",
    "#Gráfico da média de bilheteria por década"
   ]
  },
  {
   "cell_type": "code",
   "execution_count": null,
   "metadata": {},
   "outputs": [],
   "source": [
    "plt.figure(figsize=(15,6))\n",
    "plt.bar(bd.groupby(['decade'])['budget'].mean().index, bd.groupby(['decade'])['budget'].mean().values)\n",
    "plt.show()\n",
    "#Gráfico da média de custo de produção por década"
   ]
  },
  {
   "cell_type": "code",
   "execution_count": null,
   "metadata": {},
   "outputs": [],
   "source": [
    "tempomin = []\n",
    "for k in range(len(bd)):\n",
    "    a = bd['run_time'][k].replace('m', 'h').split('h')\n",
    "    soma = 0\n",
    "    for i in range(len(a)):\n",
    "        if a[i] == 'Not Available':\n",
    "            tempomin.append('Not Available')\n",
    "        else:\n",
    "            if i == 0:\n",
    "                soma += (60*int(a[i]))\n",
    "            if i == 1 and a[i] != '':\n",
    "                soma += int(a[i])\n",
    "    if a[0] != 'Not Available':\n",
    "        tempomin.append(soma)\n",
    "bd['run_time_minutes'] = tempomin\n",
    "bd['run_time_minutes'] = pd.to_numeric(bd['run_time_minutes'], errors='coerce')\n",
    "bd.head()\n",
    "#Conversão do tempo em horas e minutos para minutos"
   ]
  },
  {
   "cell_type": "code",
   "execution_count": null,
   "metadata": {},
   "outputs": [],
   "source": [
    "print(round(bd['run_time_minutes'].mean(), 2), 'min')\n",
    "#Média de duração dos filmes"
   ]
  },
  {
   "cell_type": "code",
   "execution_count": null,
   "metadata": {},
   "outputs": [],
   "source": [
    "bd[['box_office', 'run_time_minutes']].corr()\n",
    "#Coeficiente de correlação entre orçamento e duração"
   ]
  }
 ],
 "metadata": {
  "kernelspec": {
   "display_name": "Python 3",
   "language": "python",
   "name": "python3"
  },
  "language_info": {
   "codemirror_mode": {
    "name": "ipython",
    "version": 3
   },
   "file_extension": ".py",
   "mimetype": "text/x-python",
   "name": "python",
   "nbconvert_exporter": "python",
   "pygments_lexer": "ipython3",
   "version": "3.11.3"
  },
  "orig_nbformat": 4
 },
 "nbformat": 4,
 "nbformat_minor": 2
}
